{
 "cells": [
  {
   "cell_type": "markdown",
   "id": "8b3cc1ec",
   "metadata": {},
   "source": [
    "# Animated CO2 per capita versus time\n",
    "\n",
    "The data are from the [statistical review of world energy](https://www.energyinst.org/statistical-review). For the animation, we will use the [ipyvizzu](https://ipyvizzu.vizzuhq.com/latest/) library."
   ]
  },
  {
   "cell_type": "code",
   "execution_count": null,
   "id": "2b18c6fe",
   "metadata": {},
   "outputs": [],
   "source": [
    "# run this cell if you haven't installed ipyvizzu\n",
    "import sys\n",
    "!{sys.executable} -m pip install ipyvizzu"
   ]
  },
  {
   "cell_type": "code",
   "execution_count": null,
   "id": "8e881c11",
   "metadata": {},
   "outputs": [],
   "source": [
    "# import pandas and ipyvizzu libraries\n",
    "import pandas as pd\n",
    "import ipyvizzu as vz"
   ]
  },
  {
   "cell_type": "code",
   "execution_count": null,
   "id": "2f72cce1",
   "metadata": {},
   "outputs": [],
   "source": [
    "# primary energy consumption\n",
    "# file path\n",
    "path = \"../data/Statistical Review of World Energy Data.xlsx\"\n",
    "# read data from third row and drop last 13 rows\n",
    "pec = pd.read_excel(path, sheet_name = \"Primary Energy Consumption\", header=2, skipfooter=13) \n",
    "# remove empty rows\n",
    "pec.dropna(inplace=True)\n",
    "# remove rows containing \"Total\"\n",
    "pec.drop(pec[pec[\"Exajoules\"].str.contains(\"Total\")].index, inplace=True)\n",
    "# remove last three columns\n",
    "pec.drop(columns=pec.columns[-3:], axis=1,  inplace=True)\n",
    "# make first column the index of the DataFrame\n",
    "pec.set_index(\"Exajoules\", inplace=True)\n",
    "# make all columns numeric\n",
    "pec = pec.apply(pd.to_numeric, errors=\"coerce\")\n",
    "# Number of rows should be 92\n",
    "print(\"Number of rows =\", len(pec.index))\n",
    "\n",
    "pec.head()"
   ]
  },
  {
   "cell_type": "code",
   "execution_count": null,
   "id": "e237409d",
   "metadata": {},
   "outputs": [],
   "source": [
    "# primary energy consumption per capita\n",
    "# read data from third row and drop last 13 rows\n",
    "pec_cap = pd.read_excel(path, sheet_name = \"Primary Energy - Cons capita\", header=2, skipfooter=13) \n",
    "# remove empty rows\n",
    "pec_cap.dropna(inplace=True)\n",
    "# remove rows containing \"Total\"\n",
    "pec_cap.drop(pec_cap[pec_cap[\"Gigajoule per capita\"].str.contains(\"Total\")].index, inplace=True)\n",
    "# remove last two columns\n",
    "pec_cap.drop(columns=pec_cap.columns[-2:], axis=1,  inplace=True)\n",
    "# make first column the index of the DataFrame\n",
    "pec_cap.set_index(\"Gigajoule per capita\", inplace=True)\n",
    "# make all columns numeric\n",
    "pec_cap = pec_cap.apply(pd.to_numeric, errors=\"coerce\")\n",
    "# Number of rows should be 92\n",
    "print(\"Number of rows =\", len(pec_cap.index))\n",
    "\n",
    "pec_cap.head()"
   ]
  },
  {
   "cell_type": "code",
   "execution_count": null,
   "id": "2ebe942e",
   "metadata": {},
   "outputs": [],
   "source": [
    "# co2 emissions from energy\n",
    "# read data from third row and drop last 14 rows\n",
    "co2 = pd.read_excel(path, sheet_name = \"CO2 Emissions from Energy\", header=2, skipfooter=14) \n",
    "# remove empty rows\n",
    "co2.dropna(inplace=True)\n",
    "# remove rows containing \"Total\"\n",
    "co2.drop(co2[co2[\"Million tonnes of carbon dioxide\"].str.contains(\"Total\")].index, inplace=True)\n",
    "# remove last three columns\n",
    "co2.drop(columns=co2.columns[-3:], axis=1,  inplace=True)\n",
    "# make first column the index of the DataFrame\n",
    "co2.set_index(\"Million tonnes of carbon dioxide\", inplace=True)\n",
    "# make all columns numeric\n",
    "co2 = co2.apply(pd.to_numeric, errors=\"coerce\")\n",
    "# Number of rows should be 92\n",
    "print(\"Number of rows =\", len(co2.index))\n",
    "\n",
    "co2.head()"
   ]
  },
  {
   "cell_type": "code",
   "execution_count": null,
   "id": "dc830cc0",
   "metadata": {},
   "outputs": [],
   "source": [
    "# compute population by dividing primary energy consumption pec,\n",
    "# by primary energy_consumption per capita pec_cap\n",
    "# Notice that pec is in Exajoules, while pec_cap is in Gigajoules\n",
    "# Therefore population in millions is\n",
    "population = (pec*1000)/pec_cap\n",
    "# set the name of the axis for the index to Millions\n",
    "population.rename_axis(\"Millions\", inplace=True)\n",
    "\n",
    "population.head()"
   ]
  },
  {
   "cell_type": "code",
   "execution_count": null,
   "id": "e9e2d156",
   "metadata": {},
   "outputs": [],
   "source": [
    "# compute CO2 emissions per capita by dividing the CO2 emissions co2 by population\n",
    "# notice that co2 is in million tonnes and the population is in millions\n",
    "# therefore CO2 emissions per capita is in Tonnes\n",
    "co2_cap = co2 / population\n",
    "# set the name of the axis for the index to Tonnes \n",
    "co2_cap.rename_axis(\"Tonnes\", inplace=True)\n",
    "# sort DataFrame by 2022 column in a descending order\n",
    "co2_cap.sort_values(by=[2022], ascending=False, inplace=True)\n",
    "# make a list of the top 25 countries\n",
    "countries = co2_cap.index.values.tolist()[0:25]\n",
    "\n",
    "co2_cap.head()"
   ]
  },
  {
   "cell_type": "code",
   "execution_count": null,
   "id": "a5f8e4c9",
   "metadata": {},
   "outputs": [],
   "source": [
    "# I want these data instead as three columns: Country, Year, and CO2 per capita\n",
    "\n",
    "# make series with stacked year columns\n",
    "co2_cap_series = co2_cap.stack()\n",
    "# make DataFrame with series\n",
    "co2_cap_stack = pd.DataFrame(co2_cap_series)\n",
    "# rename first column to \"CO2 per capita..\"\n",
    "co2_cap_stack.rename(columns={0: \"CO2 per capita (Tonnes)\"}, inplace=True)\n",
    "# add Country column from DataFrame index\n",
    "co2_cap_stack[\"Country\"] = co2_cap_stack.index.get_level_values(0)\n",
    "# add a Year column from DataFrame index\n",
    "co2_cap_stack[\"Year\"] = co2_cap_stack.index.get_level_values(1)\n",
    "# reset index\n",
    "co2_cap_stack = co2_cap_stack.reset_index(drop=True)\n",
    "\n",
    "co2_cap_stack.head()"
   ]
  },
  {
   "cell_type": "code",
   "execution_count": null,
   "id": "fc1b566e",
   "metadata": {},
   "outputs": [],
   "source": [
    "# Filter to extract the top countries\n",
    "co2_cap_stack_filter = (co2_cap_stack[\"Country\"].isin(countries))\n",
    "\n",
    "# add DataFrame of selected countries to the ipyvizzu model\n",
    "data = vz.Data()\n",
    "data.add_data_frame(co2_cap_stack[co2_cap_stack_filter])"
   ]
  },
  {
   "cell_type": "code",
   "execution_count": null,
   "id": "a8cdac23",
   "metadata": {},
   "outputs": [],
   "source": [
    "# Choosing the x and y, x label, and property controling color\n",
    "config = {\n",
    "    \"channels\": {\n",
    "        \"y\": {\n",
    "            \"set\": [\"Country\"],\n",
    "        },\n",
    "        \"x\": {\"set\": [\"CO2 per capita (Tonnes)\"]},\n",
    "        \"label\": {\"set\": [\"CO2 per capita (Tonnes)\"]},\n",
    "        \"color\": {\"set\": [\"Country\"]},\n",
    "    },\n",
    "    \"sort\": \"byValue\",\n",
    "}"
   ]
  },
  {
   "cell_type": "code",
   "execution_count": null,
   "id": "de866117",
   "metadata": {},
   "outputs": [],
   "source": [
    "# labels and padding\n",
    "\n",
    "# ipyvizzu style\n",
    "style = vz.Style(\n",
    "    {\n",
    "        \"plot\": {\n",
    "            \"paddingLeft\": 150,\n",
    "            \"paddingTop\": 25,\n",
    "            \"yAxis\": {\n",
    "                \"color\": \"#ffffff00\",\n",
    "                \"label\": {\"paddingRight\": 10},\n",
    "            },\n",
    "            \"xAxis\": {\n",
    "                \"title\": {\"color\": \"#ffffff00\"},\n",
    "                \"label\": {\n",
    "                    \"color\": \"#ffffff00\",\n",
    "                    \"numberFormat\": \"grouped\",\n",
    "                },\n",
    "            },\n",
    "        },\n",
    "    }\n",
    ")"
   ]
  },
  {
   "cell_type": "code",
   "execution_count": null,
   "id": "5a2dfd90",
   "metadata": {},
   "outputs": [],
   "source": [
    "# create the chart object\n",
    "chart = vz.Chart(display=vz.DisplayTarget.END)\n",
    "#chart = vz.Chart(width=\"840px\", height=\"640px\")\n",
    "\n",
    "# include data and style previously defined\n",
    "chart.animate(data, style)\n",
    "\n",
    "# loop over the years\n",
    "for year in range(1965, 2023):\n",
    "    # chart title\n",
    "    config[\"title\"] = f\"CO2 per capita (Tonnes) in {year}\"\n",
    "    # chart\n",
    "    chart.animate(\n",
    "        # data for year\n",
    "        vz.Data.filter(f\"parseInt(record.Year) == {year}\"),\n",
    "        # apply configuration\n",
    "        vz.Config(config),\n",
    "        # duration, etc.\n",
    "        duration=1,\n",
    "        x={\"easing\": \"linear\", \"delay\": 0},\n",
    "        y={\"delay\": 0},\n",
    "        show={\"delay\": 0},\n",
    "        hide={\"delay\": 0},\n",
    "        title={\"duration\": 0, \"delay\": 0},\n",
    "    )"
   ]
  }
 ],
 "metadata": {
  "kernelspec": {
   "display_name": "Python 3 (ipykernel)",
   "language": "python",
   "name": "python3"
  },
  "language_info": {
   "codemirror_mode": {
    "name": "ipython",
    "version": 3
   },
   "file_extension": ".py",
   "mimetype": "text/x-python",
   "name": "python",
   "nbconvert_exporter": "python",
   "pygments_lexer": "ipython3",
   "version": "3.9.13"
  }
 },
 "nbformat": 4,
 "nbformat_minor": 5
}
