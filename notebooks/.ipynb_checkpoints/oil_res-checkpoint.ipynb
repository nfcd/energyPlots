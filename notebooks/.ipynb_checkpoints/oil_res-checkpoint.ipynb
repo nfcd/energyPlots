{
 "cells": [
  {
   "cell_type": "markdown",
   "id": "8b3cc1ec",
   "metadata": {},
   "source": [
    "# Animated oil reserves versus time\n",
    "\n",
    "The data are from the [statistical review of world energy](https://www.energyinst.org/statistical-review). For the animation, we will use the [ipyvizzu](https://ipyvizzu.vizzuhq.com/latest/) library."
   ]
  },
  {
   "cell_type": "code",
   "execution_count": null,
   "id": "2b18c6fe",
   "metadata": {},
   "outputs": [],
   "source": [
    "# run this cell if you haven't installed ipyvizzu\n",
    "import sys\n",
    "!{sys.executable} -m pip install ipyvizzu"
   ]
  },
  {
   "cell_type": "code",
   "execution_count": null,
   "id": "8e881c11",
   "metadata": {},
   "outputs": [],
   "source": [
    "# import pandas and ipyvizzu libraries\n",
    "import pandas as pd\n",
    "import ipyvizzu as vz"
   ]
  },
  {
   "cell_type": "code",
   "execution_count": null,
   "id": "4e92d51e",
   "metadata": {},
   "outputs": [],
   "source": [
    "# Read oil reserves\n",
    "\n",
    "# file path\n",
    "path = \"../data/Statistical Review of World Energy Data.xlsx\"\n",
    "# read data from third row and drop last 29 rows\n",
    "res = pd.read_excel(path, sheet_name = \"Oil - Proved reserves history\", header=2, skipfooter=29) \n",
    "# remove empty rows\n",
    "res.dropna(how=\"all\",inplace=True)\n",
    "# fill nans with zeros\n",
    "res.fillna(0, inplace=True)\n",
    "# remove rows containing \"Total\"\n",
    "res.drop(res[res[\"Thousand million barrels\"].str.contains(\"Total\")].index, inplace=True)\n",
    "# remove last three columns\n",
    "res.drop(columns=res.columns[-3:], axis=1,  inplace=True)\n",
    "# make first column the index of the DataFrame\n",
    "res.set_index(\"Thousand million barrels\", inplace=True)\n",
    "# make all columns numeric\n",
    "res = res.apply(pd.to_numeric, errors=\"coerce\")\n",
    "# sort DataFrame by 2020 column in a descending order\n",
    "res.sort_values(by=[2020], ascending=False, inplace=True)\n",
    "# make a list of the top 25 countries\n",
    "countries = res.index.values.tolist()[0:25]\n",
    "# and add the USSR\n",
    "countries.append(\"USSR\")\n",
    "\n",
    "res.head()"
   ]
  },
  {
   "cell_type": "code",
   "execution_count": null,
   "id": "a5f8e4c9",
   "metadata": {},
   "outputs": [],
   "source": [
    "# I want these data instead as three columns: Country, Year, and Oil reserves\n",
    "\n",
    "# make series with stacked year columns\n",
    "res_series = res.stack()\n",
    "# make DataFrame with series\n",
    "res_stack = pd.DataFrame(res_series)\n",
    "# rename first column to \"Oil reserves..\"\n",
    "res_stack.rename(columns={0: \"Oil reserves (billion barrels)\"}, inplace=True)\n",
    "# add Country column from DataFrame index\n",
    "res_stack[\"Country\"] = res_stack.index.get_level_values(0)\n",
    "# add a Year column from DataFrame index\n",
    "res_stack[\"Year\"] = res_stack.index.get_level_values(1)\n",
    "# reset index\n",
    "res_stack = res_stack.reset_index(drop=True)\n",
    "\n",
    "res_stack.head()"
   ]
  },
  {
   "cell_type": "code",
   "execution_count": null,
   "id": "fc1b566e",
   "metadata": {},
   "outputs": [],
   "source": [
    "# Filter to extract the top countries\n",
    "res_stack_filter = (res_stack[\"Country\"].isin(countries))\n",
    "\n",
    "# add DataFrame of selected countries to the ipyvizzu model\n",
    "data = vz.Data()\n",
    "data.add_data_frame(res_stack[res_stack_filter])"
   ]
  },
  {
   "cell_type": "code",
   "execution_count": null,
   "id": "a8cdac23",
   "metadata": {},
   "outputs": [],
   "source": [
    "# Choosing the x and y, x label, and property controling color\n",
    "config = {\n",
    "    \"channels\": {\n",
    "        \"y\": {\n",
    "            \"set\": [\"Country\"],\n",
    "        },\n",
    "        \"x\": {\"set\": [\"Oil reserves (billion barrels)\"]},\n",
    "        \"label\": {\"set\": [\"Oil reserves (billion barrels)\"]},\n",
    "        \"color\": {\"set\": [\"Country\"]},\n",
    "    },\n",
    "    \"sort\": \"byValue\",\n",
    "}"
   ]
  },
  {
   "cell_type": "code",
   "execution_count": null,
   "id": "de866117",
   "metadata": {},
   "outputs": [],
   "source": [
    "# labels and padding\n",
    "\n",
    "# ipyvizzu style\n",
    "style = vz.Style(\n",
    "    {\n",
    "        \"plot\": {\n",
    "            \"paddingLeft\": 150,\n",
    "            \"paddingTop\": 25,\n",
    "            \"yAxis\": {\n",
    "                \"color\": \"#ffffff00\",\n",
    "                \"label\": {\"paddingRight\": 10},\n",
    "            },\n",
    "            \"xAxis\": {\n",
    "                \"title\": {\"color\": \"#ffffff00\"},\n",
    "                \"label\": {\n",
    "                    \"color\": \"#ffffff00\",\n",
    "                    \"numberFormat\": \"grouped\",\n",
    "                },\n",
    "            },\n",
    "        },\n",
    "    }\n",
    ")"
   ]
  },
  {
   "cell_type": "code",
   "execution_count": null,
   "id": "5a2dfd90",
   "metadata": {},
   "outputs": [],
   "source": [
    "# create the chart object\n",
    "chart = vz.Chart(display=vz.DisplayTarget.END)\n",
    "#chart = vz.Chart(width=\"840px\", height=\"640px\")\n",
    "\n",
    "# include data and style previously defined\n",
    "chart.animate(data, style)\n",
    "\n",
    "# loop over the years\n",
    "for year in range(1980, 2021):\n",
    "    # chart title\n",
    "    config[\"title\"] = f\"Oil reserves (billion barrels) in {year}\"\n",
    "    # chart\n",
    "    chart.animate(\n",
    "        # data for year\n",
    "        vz.Data.filter(f\"parseInt(record.Year) == {year}\"),\n",
    "        # apply configuration\n",
    "        vz.Config(config),\n",
    "        # duration, etc.\n",
    "        duration=1,\n",
    "        x={\"easing\": \"linear\", \"delay\": 0},\n",
    "        y={\"delay\": 0},\n",
    "        show={\"delay\": 0},\n",
    "        hide={\"delay\": 0},\n",
    "        title={\"duration\": 0, \"delay\": 0},\n",
    "    )"
   ]
  }
 ],
 "metadata": {
  "kernelspec": {
   "display_name": "Python 3 (ipykernel)",
   "language": "python",
   "name": "python3"
  },
  "language_info": {
   "codemirror_mode": {
    "name": "ipython",
    "version": 3
   },
   "file_extension": ".py",
   "mimetype": "text/x-python",
   "name": "python",
   "nbconvert_exporter": "python",
   "pygments_lexer": "ipython3",
   "version": "3.9.13"
  }
 },
 "nbformat": 4,
 "nbformat_minor": 5
}
