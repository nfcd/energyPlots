{
 "cells": [
  {
   "cell_type": "markdown",
   "id": "8b3cc1ec",
   "metadata": {},
   "source": [
    "# Animated primary energy consumption versus time\n",
    "\n",
    "The data are from the [statistical review of world energy](https://www.energyinst.org/statistical-review). For the animation, we will use the [ipyvizzu](https://ipyvizzu.vizzuhq.com/latest/) library."
   ]
  },
  {
   "cell_type": "code",
   "execution_count": null,
   "id": "2b18c6fe",
   "metadata": {},
   "outputs": [],
   "source": [
    "# run this cell if you haven't installed ipyvizzu\n",
    "import sys\n",
    "!{sys.executable} -m pip install ipyvizzu"
   ]
  },
  {
   "cell_type": "code",
   "execution_count": null,
   "id": "8e881c11",
   "metadata": {},
   "outputs": [],
   "source": [
    "# import pandas and ipyvizzu libraries\n",
    "import pandas as pd\n",
    "import ipyvizzu as vz"
   ]
  },
  {
   "cell_type": "code",
   "execution_count": null,
   "id": "4e92d51e",
   "metadata": {},
   "outputs": [],
   "source": [
    "# Read primary energy consumption per capita\n",
    "\n",
    "# file path\n",
    "path = \"../data/Statistical Review of World Energy Data.xlsx\"\n",
    "# read data from third row and drop last 13 rows\n",
    "pec_cap = pd.read_excel(path, sheet_name = \"PE cons per capita GJ\", header=2, skipfooter=13) \n",
    "# remove empty rows\n",
    "pec_cap.dropna(inplace=True)\n",
    "# name of first column\n",
    "name_fc = pec_cap.columns[0]\n",
    "# remove rows containing \"Total\"\n",
    "pec_cap.drop(pec_cap[pec_cap[name_fc].str.contains(\"Total\")].index, inplace=True)\n",
    "# remove last two columns\n",
    "pec_cap.drop(columns=pec_cap.columns[-2:], axis=1,  inplace=True)\n",
    "# make first column the index of the DataFrame\n",
    "pec_cap.set_index(name_fc, inplace=True)\n",
    "# make all columns numeric\n",
    "pec_cap = pec_cap.apply(pd.to_numeric, errors=\"coerce\")\n",
    "# sort DataFrame by 2022 column in a descending order\n",
    "pec_cap.sort_values(by=[2022], ascending=False, inplace=True)\n",
    "# make a list of the top 25 countries\n",
    "countries = pec_cap.index.values.tolist()[0:25]\n",
    "\n",
    "pec_cap.head()"
   ]
  },
  {
   "cell_type": "code",
   "execution_count": null,
   "id": "a5f8e4c9",
   "metadata": {},
   "outputs": [],
   "source": [
    "# I want these data instead as three columns: Country, Year, and Primary energy consumption\n",
    "\n",
    "# make series with stacked year columns\n",
    "pec_cap_series = pec_cap.stack()\n",
    "# make DataFrame with series\n",
    "pec_cap_stack = pd.DataFrame(pec_cap_series)\n",
    "# rename first column \n",
    "pec_cap_stack.rename(columns={0: name_fc}, inplace=True)\n",
    "# add Country column from DataFrame index\n",
    "pec_cap_stack[\"Country\"] = pec_cap_stack.index.get_level_values(0)\n",
    "# add a Year column from DataFrame index\n",
    "pec_cap_stack[\"Year\"] = pec_cap_stack.index.get_level_values(1)\n",
    "# reset index\n",
    "pec_cap_stack = pec_cap_stack.reset_index(drop=True)\n",
    "\n",
    "pec_cap_stack.head()"
   ]
  },
  {
   "cell_type": "code",
   "execution_count": null,
   "id": "fc1b566e",
   "metadata": {},
   "outputs": [],
   "source": [
    "# Filter to extract the top countries\n",
    "pec_cap_stack_filter = (pec_cap_stack[\"Country\"].isin(countries))\n",
    "\n",
    "# add DataFrame of selected countries to the ipyvizzu model\n",
    "data = vz.Data()\n",
    "data.add_df(pec_cap_stack[pec_cap_stack_filter])"
   ]
  },
  {
   "cell_type": "code",
   "execution_count": null,
   "id": "a8cdac23",
   "metadata": {},
   "outputs": [],
   "source": [
    "# Choosing the x and y, x label, and property controling color\n",
    "config = {\n",
    "    \"channels\": {\n",
    "        \"y\": {\n",
    "            \"set\": [\"Country\"],\n",
    "        },\n",
    "        \"x\": {\"set\": [name_fc]},\n",
    "        \"label\": {\"set\": [name_fc]},\n",
    "        \"color\": {\"set\": [\"Country\"]},\n",
    "    },\n",
    "    \"sort\": \"byValue\",\n",
    "}"
   ]
  },
  {
   "cell_type": "code",
   "execution_count": null,
   "id": "de866117",
   "metadata": {},
   "outputs": [],
   "source": [
    "# labels and padding\n",
    "\n",
    "# ipyvizzu style\n",
    "style = vz.Style(\n",
    "    {\n",
    "        \"plot\": {\n",
    "            \"paddingLeft\": 150,\n",
    "            \"paddingTop\": 25,\n",
    "            \"yAxis\": {\n",
    "                \"color\": \"#ffffff00\",\n",
    "                \"label\": {\"paddingRight\": 10},\n",
    "            },\n",
    "            \"xAxis\": {\n",
    "                \"title\": {\"color\": \"#ffffff00\"},\n",
    "                \"label\": {\n",
    "                    \"color\": \"#ffffff00\",\n",
    "                    \"numberFormat\": \"grouped\",\n",
    "                },\n",
    "            },\n",
    "        },\n",
    "    }\n",
    ")"
   ]
  },
  {
   "cell_type": "code",
   "execution_count": null,
   "id": "5a2dfd90",
   "metadata": {},
   "outputs": [],
   "source": [
    "# create the chart object\n",
    "chart = vz.Chart(display=vz.DisplayTarget.END)\n",
    "#chart = vz.Chart(width=\"840px\", height=\"640px\")\n",
    "\n",
    "# include data and style previously defined\n",
    "chart.animate(data, style)\n",
    "\n",
    "# loop over the years\n",
    "for year in range(1965, 2024):\n",
    "    # chart title\n",
    "    config[\"title\"] = f\"Primary energy consumption per capita (Gigajoules) in {year}\"\n",
    "    # chart\n",
    "    chart.animate(\n",
    "        # data for year\n",
    "        vz.Data.filter(f\"parseInt(record.Year) == {year}\"),\n",
    "        # apply configuration\n",
    "        vz.Config(config),\n",
    "        # duration, etc.\n",
    "        duration=1,\n",
    "        x={\"easing\": \"linear\", \"delay\": 0},\n",
    "        y={\"delay\": 0},\n",
    "        show={\"delay\": 0},\n",
    "        hide={\"delay\": 0},\n",
    "        title={\"duration\": 0, \"delay\": 0},\n",
    "    )"
   ]
  }
 ],
 "metadata": {
  "kernelspec": {
   "display_name": "Python 3 (ipykernel)",
   "language": "python",
   "name": "python3"
  },
  "language_info": {
   "codemirror_mode": {
    "name": "ipython",
    "version": 3
   },
   "file_extension": ".py",
   "mimetype": "text/x-python",
   "name": "python",
   "nbconvert_exporter": "python",
   "pygments_lexer": "ipython3",
   "version": "3.11.5"
  }
 },
 "nbformat": 4,
 "nbformat_minor": 5
}
