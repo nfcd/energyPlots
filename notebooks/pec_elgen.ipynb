{
 "cells": [
  {
   "cell_type": "markdown",
   "id": "08ae9407",
   "metadata": {},
   "source": [
    "# Primary Energy Consumption  vs Electricity Generation \n",
    "\n",
    "Data from the [Energy Institute statistical review of world energy](https://www.energyinst.org/statistical-review)\n",
    "\n",
    "**Note:** I added to the original Excel file, a sheet with the codes and regions numbers of the countries in the dataset. This allows coloring the countries by region, and labeling them by code. See the file `Statistical Review of World Energy Data.xlsx` in the data directory."
   ]
  },
  {
   "cell_type": "code",
   "execution_count": null,
   "id": "c36bea8c",
   "metadata": {},
   "outputs": [],
   "source": [
    "# import libraries\n",
    "import matplotlib.pyplot as plt\n",
    "import pandas as pd"
   ]
  },
  {
   "cell_type": "code",
   "execution_count": null,
   "id": "8a0ef7cb",
   "metadata": {},
   "outputs": [],
   "source": [
    "# primary energy consumption\n",
    "# file path\n",
    "path = \"../data/Statistical Review of World Energy Data.xlsx\"\n",
    "# read data from third row and drop last 13 rows\n",
    "pec = pd.read_excel(path, sheet_name = \"Primary Energy Consumption\", header=2, skipfooter=13) \n",
    "# remove empty rows\n",
    "pec.dropna(inplace=True)\n",
    "# remove rows containing \"Total\"\n",
    "pec.drop(pec[pec[\"Exajoules\"].str.contains(\"Total\")].index, inplace=True)\n",
    "# remove last three columns\n",
    "pec.drop(columns=pec.columns[-3:], axis=1,  inplace=True)\n",
    "# make first column the index of the DataFrame\n",
    "pec.set_index(\"Exajoules\", inplace=True)\n",
    "# make all columns numeric\n",
    "pec = pec.apply(pd.to_numeric, errors=\"coerce\")\n",
    "# drop USSR\n",
    "pec = pec.drop([\"USSR\"])\n",
    "# Number of rows should be 91\n",
    "print(\"Number of rows =\", len(pec.index))\n",
    "\n",
    "pec.tail()"
   ]
  },
  {
   "cell_type": "code",
   "execution_count": null,
   "id": "9c7e1724",
   "metadata": {},
   "outputs": [],
   "source": [
    "# primary energy consumption per capita\n",
    "# read data from third row and drop last 13 rows\n",
    "pec_cap = pd.read_excel(path, sheet_name = \"Primary Energy - Cons capita\", header=2, skipfooter=13) \n",
    "# remove empty rows\n",
    "pec_cap.dropna(inplace=True)\n",
    "# remove rows containing \"Total\"\n",
    "pec_cap.drop(pec_cap[pec_cap[\"Gigajoule per capita\"].str.contains(\"Total\")].index, inplace=True)\n",
    "# remove last two columns\n",
    "pec_cap.drop(columns=pec_cap.columns[-2:], axis=1,  inplace=True)\n",
    "# make first column the index of the DataFrame\n",
    "pec_cap.set_index(\"Gigajoule per capita\", inplace=True)\n",
    "# make all columns numeric\n",
    "pec_cap = pec_cap.apply(pd.to_numeric, errors=\"coerce\")\n",
    "# drop USSR\n",
    "pec_cap = pec_cap.drop([\"USSR\"])\n",
    "# Number of rows should be 91\n",
    "print(\"Number of rows =\", len(pec_cap.index))\n",
    "\n",
    "pec_cap.tail()"
   ]
  },
  {
   "cell_type": "code",
   "execution_count": null,
   "id": "ad03963c",
   "metadata": {},
   "outputs": [],
   "source": [
    "# electricity generation\n",
    "# read data from third row and drop last 10 rows\n",
    "elg = pd.read_excel(path, sheet_name = \"Electricity Generation\", header=2, skipfooter=10) \n",
    "# remove empty rows\n",
    "elg.dropna(inplace=True)\n",
    "# remove rows containing \"Total\"\n",
    "elg.drop(elg[elg[\"Terawatt-hours\"].str.contains(\"Total\")].index, inplace=True)\n",
    "# remove last three columns\n",
    "elg.drop(columns=elg.columns[-3:], axis=1,  inplace=True)\n",
    "# make first column the index of the DataFrame\n",
    "elg.set_index(\"Terawatt-hours\", inplace=True)\n",
    "# make all columns numeric\n",
    "elg = elg.apply(pd.to_numeric, errors=\"coerce\")\n",
    "# electricity generation is in Terawatt-hours, convert to Exajoules\n",
    "elg = elg * 0.0036\n",
    "# set the name of the axis for the index to Exajoules\n",
    "elg.rename_axis(\"Exajoules\", inplace=True)\n",
    "# Number of rows should be 91\n",
    "print(\"Number of rows =\", len(elg.index))\n",
    "\n",
    "elg.tail()"
   ]
  },
  {
   "cell_type": "code",
   "execution_count": null,
   "id": "6e266748",
   "metadata": {},
   "outputs": [],
   "source": [
    "# codes and regions\n",
    "cod_reg = pd.read_excel(path, sheet_name = \"Codes and regions\") \n",
    "# make first column the index of the DataFrame\n",
    "cod_reg.set_index(\"Country\", inplace=True)\n",
    "# use only the indexes/countries in the pec DataFrame\n",
    "cod_reg = cod_reg.loc[pec.index]\n",
    "# set the name of the axis for the index to \"\"\n",
    "cod_reg.rename_axis(\"\", inplace=True)\n",
    "# Number of rows should be 91\n",
    "print(\"Number of rows =\", len(cod_reg.index))\n",
    "\n",
    "cod_reg.tail()"
   ]
  },
  {
   "cell_type": "code",
   "execution_count": null,
   "id": "e5809eba",
   "metadata": {},
   "outputs": [],
   "source": [
    "# check the indexes of the DataFrames are equal\n",
    "print(pec.index.equals(pec_cap.index))\n",
    "print(pec.index.equals(elg.index))\n",
    "print(pec.index.equals(cod_reg.index))"
   ]
  },
  {
   "cell_type": "code",
   "execution_count": null,
   "id": "0bfa8070",
   "metadata": {},
   "outputs": [],
   "source": [
    "# compute population by dividing primary energy consumption pec,\n",
    "# by primary energy_consumption per capita pec_cap\n",
    "# Notice that pec is in Exajoules, while pec_cap is in Gigajoules\n",
    "# Therefore population in millions is\n",
    "population = (pec*1000)/pec_cap\n",
    "# set the name of the axis for the index to Millions\n",
    "population.rename_axis(\"Millions\", inplace=True)\n",
    "\n",
    "population.tail()"
   ]
  },
  {
   "cell_type": "code",
   "execution_count": null,
   "id": "3d3e1a58",
   "metadata": {},
   "outputs": [],
   "source": [
    "# graph as scatter the energy consumption versus electricity generation for the year 2022\n",
    "# color the points by region and make their size proportional to population\n",
    "\n",
    "# regions:\n",
    "# 1 = North America\n",
    "# 2 = South and Central America\n",
    "# 3 = Europe\n",
    "# 4 = CIS\n",
    "# 5 = Middle East\n",
    "# 6 = Africa\n",
    "# 7 = Asia Pacific\n",
    "regions = [1, 2, 3, 4, 5, 6, 7]\n",
    "regions = regions[::-1] # reverse list of regions\n",
    "\n",
    "# colors for regions\n",
    "colors = [\"palegreen\", \"darkgreen\", \"blue\", \"magenta\", \"orange\", \"red\", \"yellow\"]\n",
    "colors = colors[::-1] # reverse list of colors\n",
    "\n",
    "# year\n",
    "year = 2022\n",
    "\n",
    "# make figure\n",
    "fig, ax = plt.subplots(figsize=(15,7.5))\n",
    "\n",
    "# for each region\n",
    "for (region, color) in zip(regions, colors):\n",
    "    # extract region data\n",
    "    my_pec = pec[cod_reg[\"region\"] == region]\n",
    "    my_elg = elg[cod_reg[\"region\"] == region]\n",
    "    my_population = population[cod_reg[\"region\"] == region]\n",
    "    # plot data\n",
    "    ax.scatter(my_pec[year], my_elg[year], s=my_population[year]*2, \n",
    "               c=color, edgecolor=\"0\", alpha=0.75, zorder=2)\n",
    "    # plot labels\n",
    "    for index in my_pec.index:\n",
    "        if my_elg.loc[index,year] >= 0.01:\n",
    "            ax.text(x=my_pec.loc[index,year], y=my_elg.loc[index,year], \n",
    "                    s=cod_reg.loc[index,\"code\"], size=8, zorder=3)\n",
    "\n",
    "# plot year\n",
    "ax.text(x = 0.05, y = 0.2, s=str(year), \n",
    "        fontdict=dict(fontfamily=\"Courier New\", color=\"lightgray\", size=250), zorder=1)    \n",
    "\n",
    "# set axes\n",
    "ax.set_xlim([0.01, 300])\n",
    "ax.set_ylim([0.01, 60])\n",
    "ax.set_xscale(\"log\") # x axis is log\n",
    "ax.set_yscale(\"log\") # y axis is log\n",
    "ax.set_xlabel(\"Primary energy consumption [Exajoules]\")\n",
    "ax.set_ylabel(\"Electricity generation [Exajoules]\")\n",
    "ax.grid(True)"
   ]
  },
  {
   "cell_type": "code",
   "execution_count": null,
   "id": "72aca6bc",
   "metadata": {},
   "outputs": [],
   "source": [
    "# run this cell to install celluloid\n",
    "import sys\n",
    "!{sys.executable} -m pip install celluloid"
   ]
  },
  {
   "cell_type": "code",
   "execution_count": null,
   "id": "65140c8e",
   "metadata": {},
   "outputs": [],
   "source": [
    "# Create animation of energy consumption versus electricity generation  over time\n",
    "\n",
    "# import celluloid Camera\n",
    "from celluloid import Camera\n",
    "\n",
    "# create figure\n",
    "fig, ax = plt.subplots(figsize=(15,7.5))\n",
    "# set axes\n",
    "ax.set_xlim([0.01, 300])\n",
    "ax.set_ylim([0.01, 60])\n",
    "ax.set_xscale(\"log\") # x axis is log\n",
    "ax.set_yscale(\"log\") # y axis is log\n",
    "ax.set_xlabel(\"Primary energy consumption [Exajoules]\")\n",
    "ax.set_ylabel(\"Electricity generation [Exajoules]\")\n",
    "ax.grid(True)\n",
    "# create camera\n",
    "camera = Camera(fig)\n",
    "\n",
    "# for each year\n",
    "for year in elg.columns:\n",
    "    # for each region\n",
    "    for (region, color) in zip(regions, colors):\n",
    "        # extract region data\n",
    "        my_pec = pec[cod_reg[\"region\"] == region]\n",
    "        my_elg = elg[cod_reg[\"region\"] == region]\n",
    "        my_population = population[cod_reg[\"region\"] == region]\n",
    "        # plot data\n",
    "        ax.scatter(my_pec[year], my_elg[year], s=my_population[year]*2, \n",
    "                   c=color, edgecolor=\"0\", alpha=0.75, zorder=2)\n",
    "        # plot labels\n",
    "        for index in my_pec.index:\n",
    "            if my_elg.loc[index,year] >= 0.01:\n",
    "                ax.text(x=my_pec.loc[index,year], y=my_elg.loc[index,year], \n",
    "                        s=cod_reg.loc[index,\"code\"], size=8, zorder=3)\n",
    "    # plot year\n",
    "    ax.text(x = 0.05, y = 0.2, s=str(year), \n",
    "            fontdict=dict(fontfamily=\"Courier New\", color=\"silver\", size=250), zorder=1)\n",
    "    # snap current plot\n",
    "    camera.snap()"
   ]
  },
  {
   "cell_type": "markdown",
   "id": "ccbffc33",
   "metadata": {},
   "source": [
    "To play the animation in the notebook, you may need to install ffmpeg. For macOS, follow [this link](https://phoenixnap.com/kb/ffmpeg-mac)"
   ]
  },
  {
   "cell_type": "code",
   "execution_count": null,
   "id": "7ce4a246",
   "metadata": {},
   "outputs": [],
   "source": [
    "# import HTML to display video in notebook\n",
    "from IPython.display import HTML\n",
    "# create animation\n",
    "animation = camera.animate(interval = 500, repeat = True, repeat_delay = 500)\n",
    "# play animation\n",
    "HTML(animation.to_html5_video())"
   ]
  },
  {
   "cell_type": "code",
   "execution_count": null,
   "id": "6c71dff3",
   "metadata": {},
   "outputs": [],
   "source": [
    "# save animation\n",
    "animation.save(\"../movies/PrimEnVsElGen.mp4\", dpi=300)"
   ]
  }
 ],
 "metadata": {
  "kernelspec": {
   "display_name": "Python 3 (ipykernel)",
   "language": "python",
   "name": "python3"
  },
  "language_info": {
   "codemirror_mode": {
    "name": "ipython",
    "version": 3
   },
   "file_extension": ".py",
   "mimetype": "text/x-python",
   "name": "python",
   "nbconvert_exporter": "python",
   "pygments_lexer": "ipython3",
   "version": "3.9.13"
  }
 },
 "nbformat": 4,
 "nbformat_minor": 5
}
