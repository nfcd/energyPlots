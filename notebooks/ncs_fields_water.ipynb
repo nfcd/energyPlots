{
 "cells": [
  {
   "cell_type": "code",
   "execution_count": null,
   "metadata": {},
   "outputs": [],
   "source": [
    "# load the data from field_production_yearly.xlsx\n",
    "# into a pandas dataframe\n",
    "import pandas as pd\n",
    "\n",
    "df = pd.read_excel('../data/field_production_yearly.xlsx')\n",
    "df.head()"
   ]
  },
  {
   "cell_type": "code",
   "execution_count": null,
   "metadata": {},
   "outputs": [],
   "source": [
    "# columns and years\n",
    "columns = df.columns\n",
    "f_col = columns[0]\n",
    "v_col = columns[7] # water\n",
    "years = df['Year'].sort_values().unique()"
   ]
  },
  {
   "cell_type": "code",
   "execution_count": null,
   "metadata": {},
   "outputs": [],
   "source": [
    "# pick the top 30 fields \n",
    "df_tot = df.groupby(f_col).sum()\n",
    "df_tot.sort_values(by=v_col, ascending=False, inplace=True)\n",
    "fields = df_tot.index.values.tolist()[0:30]"
   ]
  },
  {
   "cell_type": "code",
   "execution_count": null,
   "metadata": {},
   "outputs": [],
   "source": [
    "import ipyvizzu as vz\n",
    "\n",
    "# Filter to extract the top fields\n",
    "fields_filter = (df[f_col].isin(fields))\n",
    "\n",
    "# add DataFrame of selected fields to the ipyvizzu model\n",
    "data = vz.Data()\n",
    "data.add_df(df[fields_filter])"
   ]
  },
  {
   "cell_type": "code",
   "execution_count": null,
   "metadata": {},
   "outputs": [],
   "source": [
    "# Choosing the x and y, x label, and property controling color\n",
    "config = {\n",
    "    \"channels\": {\n",
    "        \"y\": {\n",
    "            \"set\": [f_col],\n",
    "        },\n",
    "        \"x\": {\"set\": [v_col]},\n",
    "        \"label\": {\"set\": [v_col]},\n",
    "        \"color\": {\"set\": [f_col]},\n",
    "    },\n",
    "    \"sort\": \"byValue\",\n",
    "}"
   ]
  },
  {
   "cell_type": "code",
   "execution_count": null,
   "metadata": {},
   "outputs": [],
   "source": [
    "# labels and padding\n",
    "\n",
    "# ipyvizzu style\n",
    "style = vz.Style(\n",
    "    {\n",
    "        \"plot\": {\n",
    "            \"paddingLeft\": 150,\n",
    "            \"paddingTop\": 25,\n",
    "            \"yAxis\": {\n",
    "                \"color\": \"#ffffff00\",\n",
    "                \"label\": {\"paddingRight\": 10},\n",
    "            },\n",
    "            \"xAxis\": {\n",
    "                \"title\": {\"color\": \"#ffffff00\"},\n",
    "                \"label\": {\n",
    "                    \"color\": \"#ffffff00\",\n",
    "                    \"numberFormat\": \"grouped\",\n",
    "                },\n",
    "            },\n",
    "        },\n",
    "    }\n",
    ")"
   ]
  },
  {
   "cell_type": "code",
   "execution_count": null,
   "metadata": {},
   "outputs": [],
   "source": [
    "# create the chart object\n",
    "chart = vz.Chart(display=vz.DisplayTarget.END, width=\"700px\")\n",
    "#chart = vz.Chart(width=\"840px\", height=\"640px\")\n",
    "\n",
    "# include data and style previously defined\n",
    "chart.animate(data, style)\n",
    "\n",
    "# loop over the years\n",
    "for year in years[:-1]:\n",
    "    # chart title\n",
    "    config[\"title\"] = f\"Produced water (mill Sm3) in {year}\"\n",
    "    # chart\n",
    "    chart.animate(\n",
    "        # data for year\n",
    "        vz.Data.filter(f\"parseInt(record.Year) == {year}\"),\n",
    "        # apply configuration\n",
    "        vz.Config(config),\n",
    "        # duration, etc.\n",
    "        duration=1,\n",
    "        x={\"easing\": \"linear\", \"delay\": 0},\n",
    "        y={\"delay\": 0},\n",
    "        show={\"delay\": 0},\n",
    "        hide={\"delay\": 0},\n",
    "        title={\"duration\": 0, \"delay\": 0},\n",
    "    )"
   ]
  }
 ],
 "metadata": {
  "kernelspec": {
   "display_name": "base",
   "language": "python",
   "name": "python3"
  },
  "language_info": {
   "codemirror_mode": {
    "name": "ipython",
    "version": 3
   },
   "file_extension": ".py",
   "mimetype": "text/x-python",
   "name": "python",
   "nbconvert_exporter": "python",
   "pygments_lexer": "ipython3",
   "version": "3.11.5"
  }
 },
 "nbformat": 4,
 "nbformat_minor": 2
}
